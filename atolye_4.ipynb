{
 "cells": [
  {
   "cell_type": "code",
   "execution_count": 3,
   "id": "b8e42f1b-8210-41fa-820a-7d12770da812",
   "metadata": {},
   "outputs": [],
   "source": [
    "#odev_1\n",
    "def daire_alanı_hesapla():\n",
    "    pi = float(input(\"lütfen pi değerini girin: \"))\n",
    "    yaricap = float(input(\"lütfen yarıçapı girin: \"))\n",
    "    alan = pi * yaricap **2\n",
    "    print(f\"Dairenin alanı: {alan:.2f}\") "
   ]
  },
  {
   "cell_type": "code",
   "execution_count": 5,
   "id": "25b3c9f4-abae-4f51-a462-09a9fa2b168c",
   "metadata": {},
   "outputs": [
    {
     "name": "stdin",
     "output_type": "stream",
     "text": [
      "lütfen pi değerini girin:  3.14\n",
      "lütfen yarıçapı girin:  4\n"
     ]
    },
    {
     "name": "stdout",
     "output_type": "stream",
     "text": [
      "Dairenin alanı: 50.24\n"
     ]
    }
   ],
   "source": [
    "daire_alanı_hesapla()"
   ]
  },
  {
   "cell_type": "code",
   "execution_count": 13,
   "id": "ab4a4695-eb7a-4ff3-9f7c-86cd677b2514",
   "metadata": {},
   "outputs": [
    {
     "name": "stdin",
     "output_type": "stream",
     "text": [
      "bir sayı giriniz 5\n"
     ]
    },
    {
     "name": "stdout",
     "output_type": "stream",
     "text": [
      "Faktöriyel: 120\n"
     ]
    }
   ],
   "source": [
    "#odev_2 \n",
    "def faktoriyel(n):\n",
    "    sonuc = 1\n",
    "    for i in range(1, n + 1):\n",
    "        sonuc *= i\n",
    "    print(\"Faktöriyel: {}\".format(sonuc))\n",
    "sayi = int(input(\"bir sayı giriniz\"))\n",
    "faktoriyel(sayi)"
   ]
  },
  {
   "cell_type": "code",
   "execution_count": 21,
   "id": "ed9a9547-7d55-4c80-a0b6-3d4fc8359438",
   "metadata": {},
   "outputs": [
    {
     "name": "stdin",
     "output_type": "stream",
     "text": [
      "doğum yılınızı giriniz 2006\n"
     ]
    },
    {
     "name": "stdout",
     "output_type": "stream",
     "text": [
      "yaşınız: 19\n"
     ]
    }
   ],
   "source": [
    "#odev_3\n",
    "def yas_hesapla():\n",
    "    yas = 2025 - dogum_yılı\n",
    "    print(f\"yaşınız: {yas}\")\n",
    "dogum_yılı = int(input(\"doğum yılınızı giriniz\"))\n",
    "yas_hesapla()"
   ]
  },
  {
   "cell_type": "code",
   "execution_count": 31,
   "id": "2f7a8b0d-1aaa-4bd5-a113-ad9c35f84c4e",
   "metadata": {},
   "outputs": [
    {
     "name": "stdin",
     "output_type": "stream",
     "text": [
      "adınızı giriniz:  yağmur\n"
     ]
    },
    {
     "ename": "ValueError",
     "evalue": "invalid literal for int() with base 10: 'yağmur'",
     "output_type": "error",
     "traceback": [
      "\u001b[0;31m---------------------------------------------------------------------------\u001b[0m",
      "\u001b[0;31mValueError\u001b[0m                                Traceback (most recent call last)",
      "Cell \u001b[0;32mIn[31], line 10\u001b[0m\n\u001b[1;32m      8\u001b[0m         kalan_yil \u001b[38;5;241m=\u001b[39m \u001b[38;5;241m65\u001b[39m \u001b[38;5;241m-\u001b[39m yas\n\u001b[1;32m      9\u001b[0m         \u001b[38;5;28mprint\u001b[39m(\u001b[38;5;124mf\u001b[39m\u001b[38;5;124m\"\u001b[39m\u001b[38;5;124memekliliğinize kalan yıl: \u001b[39m\u001b[38;5;132;01m{\u001b[39;00mkalan_yil\u001b[38;5;132;01m}\u001b[39;00m\u001b[38;5;124m\"\u001b[39m)\n\u001b[0;32m---> 10\u001b[0m ad \u001b[38;5;241m=\u001b[39m \u001b[38;5;28mint\u001b[39m(\u001b[38;5;28minput\u001b[39m(\u001b[38;5;124m\"\u001b[39m\u001b[38;5;124madınızı giriniz: \u001b[39m\u001b[38;5;124m\"\u001b[39m))\n\u001b[1;32m     11\u001b[0m dogum_yılı \u001b[38;5;241m=\u001b[39m \u001b[38;5;28mint\u001b[39m(\u001b[38;5;28minput\u001b[39m(\u001b[38;5;124m\"\u001b[39m\u001b[38;5;124mmerhaba\u001b[39m\u001b[38;5;124m\"\u001b[39m, {ad} ,\u001b[38;5;124m\"\u001b[39m\u001b[38;5;124mdoğum yılınızı giriniz\u001b[39m\u001b[38;5;124m\"\u001b[39m))\n\u001b[1;32m     12\u001b[0m emekli()\n",
      "\u001b[0;31mValueError\u001b[0m: invalid literal for int() with base 10: 'yağmur'"
     ]
    }
   ],
   "source": [
    "#odev_4\n",
    "def emekli():\n",
    "    yas = 2025 - dogum_yılı\n",
    "\n",
    "    if yas >= 65:\n",
    "        print(\"emekli oldunuz\")\n",
    "    else:\n",
    "        kalan_yil = 65 - yas\n",
    "        print(f\"emekliliğinize kalan yıl: {kalan_yil}\")\n",
    "ad = int(input(\"adınızı giriniz: \"))\n",
    "dogum_yılı = int(input(f\"merhaba {ad}doğum yılınızı giriniz\"))\n",
    "emekli()"
   ]
  },
  {
   "cell_type": "code",
   "execution_count": null,
   "id": "d993240d-ce5c-4b09-a9ef-106a03006bde",
   "metadata": {},
   "outputs": [],
   "source": []
  }
 ],
 "metadata": {
  "kernelspec": {
   "display_name": "Python [conda env:base] *",
   "language": "python",
   "name": "conda-base-py"
  },
  "language_info": {
   "codemirror_mode": {
    "name": "ipython",
    "version": 3
   },
   "file_extension": ".py",
   "mimetype": "text/x-python",
   "name": "python",
   "nbconvert_exporter": "python",
   "pygments_lexer": "ipython3",
   "version": "3.12.7"
  }
 },
 "nbformat": 4,
 "nbformat_minor": 5
}
