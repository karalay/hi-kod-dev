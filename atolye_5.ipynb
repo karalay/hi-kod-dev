{
 "cells": [
  {
   "cell_type": "code",
   "execution_count": 1,
   "id": "3f57b457-0e96-4ac4-beeb-8b820a985bd5",
   "metadata": {},
   "outputs": [],
   "source": [
    "#odev_5\n",
    "liste = [\"Python\",True,9,\"3\",8.4,\"Hi-Kod\",\"False\",4.7]"
   ]
  },
  {
   "cell_type": "code",
   "execution_count": 5,
   "id": "e3577d84-93f7-4ff9-99c3-c51bb3b75e50",
   "metadata": {},
   "outputs": [
    {
     "data": {
      "text/plain": [
       "'3'"
      ]
     },
     "execution_count": 5,
     "metadata": {},
     "output_type": "execute_result"
    }
   ],
   "source": [
    "liste[3]"
   ]
  },
  {
   "cell_type": "code",
   "execution_count": 7,
   "id": "363ad3ae-baaf-4dcd-880f-e0558c6033ba",
   "metadata": {},
   "outputs": [
    {
     "data": {
      "text/plain": [
       "'Hi-Kod'"
      ]
     },
     "execution_count": 7,
     "metadata": {},
     "output_type": "execute_result"
    }
   ],
   "source": [
    "liste[5]"
   ]
  },
  {
   "cell_type": "code",
   "execution_count": 9,
   "id": "e6b967f4-e70d-4d30-ad30-c8e90fe8d435",
   "metadata": {},
   "outputs": [
    {
     "data": {
      "text/plain": [
       "4.7"
      ]
     },
     "execution_count": 9,
     "metadata": {},
     "output_type": "execute_result"
    }
   ],
   "source": [
    "liste[7]"
   ]
  },
  {
   "cell_type": "code",
   "execution_count": 17,
   "id": "be90b190-002a-441a-9be3-710bd8075415",
   "metadata": {},
   "outputs": [
    {
     "data": {
      "text/plain": [
       "[9, '3', 8.4, 'Hi-Kod']"
      ]
     },
     "execution_count": 17,
     "metadata": {},
     "output_type": "execute_result"
    }
   ],
   "source": [
    "liste[2:6]"
   ]
  },
  {
   "cell_type": "code",
   "execution_count": 15,
   "id": "8f1ad6ba-b370-41a6-b56e-9578b933d8dd",
   "metadata": {},
   "outputs": [
    {
     "data": {
      "text/plain": [
       "[8.4, 'Hi-Kod', 'False', 4.7]"
      ]
     },
     "execution_count": 15,
     "metadata": {},
     "output_type": "execute_result"
    }
   ],
   "source": [
    "liste[4:8]"
   ]
  },
  {
   "cell_type": "code",
   "execution_count": 21,
   "id": "309fd93e-61a8-4c61-b2d6-1b3c4790f3c5",
   "metadata": {},
   "outputs": [
    {
     "name": "stdout",
     "output_type": "stream",
     "text": [
      "['Python', '3', 'Hi-Kod', 'False']\n"
     ]
    }
   ],
   "source": [
    "#odev_2\n",
    "yeni_list = [eleman for eleman in liste if isinstance(eleman, str)]\n",
    "print(yeni_list)"
   ]
  },
  {
   "cell_type": "code",
   "execution_count": 23,
   "id": "5abcefe4-bd6a-49f9-8204-8666eae6aefe",
   "metadata": {},
   "outputs": [
    {
     "name": "stdout",
     "output_type": "stream",
     "text": [
      "0. indexte bulunan meyve: Elma\n",
      "1. indexte bulunan meyve: Armut\n",
      "2. indexte bulunan meyve: Muz\n",
      "3. indexte bulunan meyve: Çilek\n"
     ]
    }
   ],
   "source": [
    "#odev_3\n",
    "meyveler = [\"Elma\", \"Armut\", \"Muz\", \"Çilek\"]\n",
    "\n",
    "# enumerate() kullanımı\n",
    "for index, meyve in enumerate(meyveler):\n",
    "    print(\"{}. indexte bulunan meyve: {}\".format(index, meyve))"
   ]
  },
  {
   "cell_type": "code",
   "execution_count": null,
   "id": "56c8e924-4407-48a6-a7fb-946d83e1ec33",
   "metadata": {},
   "outputs": [],
   "source": []
  }
 ],
 "metadata": {
  "kernelspec": {
   "display_name": "Python [conda env:base] *",
   "language": "python",
   "name": "conda-base-py"
  },
  "language_info": {
   "codemirror_mode": {
    "name": "ipython",
    "version": 3
   },
   "file_extension": ".py",
   "mimetype": "text/x-python",
   "name": "python",
   "nbconvert_exporter": "python",
   "pygments_lexer": "ipython3",
   "version": "3.12.7"
  }
 },
 "nbformat": 4,
 "nbformat_minor": 5
}
