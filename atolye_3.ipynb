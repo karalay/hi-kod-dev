{
 "cells": [
  {
   "cell_type": "code",
   "execution_count": 5,
   "id": "07729c5f-c50e-4ed9-bc9d-7a4b6da5c091",
   "metadata": {},
   "outputs": [
    {
     "name": "stdin",
     "output_type": "stream",
     "text": [
      "Lütfen maaşınızı girin:  5000\n"
     ]
    },
    {
     "name": "stdout",
     "output_type": "stream",
     "text": [
      "Vergi kesintisi sonrası yeni maaşınız: 0.05\n"
     ]
    }
   ],
   "source": [
    "#odev_1\n",
    "maas = float(input(\"Lütfen maaşınızı girin: \"))\n",
    "\n",
    "if maas <= 10000:\n",
    "    vergi = 0.05\n",
    "elif maas <= 25000:\n",
    "    vergi = 0.10\n",
    "elif maas <= 45000:\n",
    "    vergi = 0.25\n",
    "else:\n",
    "    vergi = 0.30\n",
    "\n",
    "yeni_maas = maas * (1 - vergi)\n",
    "\n",
    "print(f\"Vergi kesintisi sonrası yeni maaşınız: {vergi:.2f}\")"
   ]
  },
  {
   "cell_type": "code",
   "execution_count": 12,
   "id": "035b4425-7ebb-4489-9444-b2b94650bf96",
   "metadata": {},
   "outputs": [
    {
     "name": "stdin",
     "output_type": "stream",
     "text": [
      "Lütfen kullanıcı adınızı girin:  lımos\n",
      "Lütfen şifrenizi oluşturun:  123456\n"
     ]
    },
    {
     "name": "stdout",
     "output_type": "stream",
     "text": [
      "Hesabınız oluşturuldu.\n"
     ]
    }
   ],
   "source": [
    "#odev_2\n",
    "username = input(\"Lütfen kullanıcı adınızı girin: \")\n",
    "password = input(\"Lütfen şifrenizi oluşturun: \")\n",
    "\n",
    "if len(password) >= 6:\n",
    "    print(\"Hesabınız oluşturuldu.\")\n",
    "else:\n",
    "    print(\"Lütfen en az 6 haneli bir şifre oluşturun.\")"
   ]
  },
  {
   "cell_type": "code",
   "execution_count": 16,
   "id": "f7356845-27e6-41e4-9a60-8967caa4aefd",
   "metadata": {},
   "outputs": [
    {
     "name": "stdin",
     "output_type": "stream",
     "text": [
      "Lütfen kullanıcı adınızı girin:  lımos\n",
      "Lütfen şifrenizi oluşturun:  34\n"
     ]
    },
    {
     "name": "stdout",
     "output_type": "stream",
     "text": [
      "Lütfen girdiniz şifre 5 haneden az, 10 haneden fazla olmasın!\n"
     ]
    },
    {
     "name": "stdin",
     "output_type": "stream",
     "text": [
      "Lütfen şifrenizi oluşturun:  836402q\n"
     ]
    },
    {
     "name": "stdout",
     "output_type": "stream",
     "text": [
      "Hesabınız oluşturuldu.\n"
     ]
    }
   ],
   "source": [
    "#odev_3\n",
    "username = input(\"Lütfen kullanıcı adınızı girin: \")\n",
    "\n",
    "while True:\n",
    "    password = input(\"Lütfen şifrenizi oluşturun: \")\n",
    "    if 5 <= len(password) <= 10:\n",
    "        print(\"Hesabınız oluşturuldu.\")\n",
    "        break\n",
    "    else:\n",
    "        print(\"Lütfen girdiniz şifre 5 haneden az, 10 haneden fazla olmasın!\")"
   ]
  },
  {
   "cell_type": "code",
   "execution_count": 22,
   "id": "c982f8a6-ac80-4562-9e02-36f9af1f19d5",
   "metadata": {},
   "outputs": [
    {
     "name": "stdin",
     "output_type": "stream",
     "text": [
      "Lütfen kullanıcı adınızı girin:  lımos\n",
      "Lütfen şifrenizi girin:  3897264\n"
     ]
    },
    {
     "name": "stdout",
     "output_type": "stream",
     "text": [
      "Yanlış şifre girildi! Kalan hakkınız: 2\n"
     ]
    },
    {
     "name": "stdin",
     "output_type": "stream",
     "text": [
      "Lütfen şifrenizi girin:  983462\n"
     ]
    },
    {
     "name": "stdout",
     "output_type": "stream",
     "text": [
      "Yanlış şifre girildi! Kalan hakkınız: 1\n"
     ]
    },
    {
     "name": "stdin",
     "output_type": "stream",
     "text": [
      "Lütfen şifrenizi girin:  123456\n"
     ]
    },
    {
     "name": "stdout",
     "output_type": "stream",
     "text": [
      "Giriş yapıldı.\n"
     ]
    }
   ],
   "source": [
    "#odev_4\n",
    "username = input(\"Lütfen kullanıcı adınızı girin: \")\n",
    "correct_password = \"123456\"  # Önceden tanımlı şifre\n",
    "hak = 3\n",
    "\n",
    "while hak > 0:\n",
    "    password = input(\"Lütfen şifrenizi girin: \")\n",
    "    if password == correct_password:\n",
    "        print(\"Giriş yapıldı.\")\n",
    "        break\n",
    "    else:\n",
    "        hak -= 1\n",
    "        if hak > 0:\n",
    "            print(f\"Yanlış şifre girildi! Kalan hakkınız: {hak}\")\n",
    "        else:\n",
    "            print(\"Üç kez yanlış şifre girdiniz. Program sonlandırılıyor.\")"
   ]
  },
  {
   "cell_type": "code",
   "execution_count": null,
   "id": "d74cd642-81e2-4bff-89b8-7447b7a84ba1",
   "metadata": {},
   "outputs": [],
   "source": []
  }
 ],
 "metadata": {
  "kernelspec": {
   "display_name": "Python [conda env:base] *",
   "language": "python",
   "name": "conda-base-py"
  },
  "language_info": {
   "codemirror_mode": {
    "name": "ipython",
    "version": 3
   },
   "file_extension": ".py",
   "mimetype": "text/x-python",
   "name": "python",
   "nbconvert_exporter": "python",
   "pygments_lexer": "ipython3",
   "version": "3.12.7"
  }
 },
 "nbformat": 4,
 "nbformat_minor": 5
}
