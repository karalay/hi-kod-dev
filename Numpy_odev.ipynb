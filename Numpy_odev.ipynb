{
 "cells": [
  {
   "cell_type": "markdown",
   "id": "a0f6364d",
   "metadata": {},
   "source": [
    "##### 1.Sayılardan oluşan bir boyutlu array oluşturun.\n",
    "\n",
    "Oluşturulan arrayin boyut, eleman sayısı bilgilerine bakalım."
   ]
  },
  {
   "cell_type": "code",
   "execution_count": 1,
   "id": "c16c30a6",
   "metadata": {},
   "outputs": [
    {
     "name": "stdout",
     "output_type": "stream",
     "text": [
      "Array: [1 2 3 4 5]\n",
      "Boyut: 1\n",
      "Şekil: (5,)\n",
      "Eleman Sayısı: 5\n"
     ]
    }
   ],
   "source": [
    "import numpy as np\n",
    "arr1 = np.array([1, 2, 3, 4, 5])\n",
    "print(\"Array:\", arr1)\n",
    "print(\"Boyut:\", arr1.ndim) \n",
    "print(\"Şekil:\", arr1.shape) \n",
    "print(\"Eleman Sayısı:\", arr1.size) \n"
   ]
  },
  {
   "cell_type": "markdown",
   "id": "1681f851",
   "metadata": {},
   "source": [
    "##### 2. Aşağıda verilen iki boyutlu ve üç boyutlu arrayi oluşturalım.\n",
    "\n",
    "İki boyutlu array:\n",
    "[[1,2,6,7],\n",
    " [4,3,9,5]]\n",
    "\n",
    "Üç boyutlu array:\n",
    "[[[7,5,14],[21,8,11]],\n",
    " [[8,6,20],[14,3,9]]]\n",
    "\n",
    " "
   ]
  },
  {
   "cell_type": "code",
   "execution_count": 3,
   "id": "e3a138ed",
   "metadata": {},
   "outputs": [
    {
     "name": "stdout",
     "output_type": "stream",
     "text": [
      "İki boyutlu array:\n",
      " [[1 2 6 7]\n",
      " [4 3 9 5]]\n",
      "Boyut: 2\n",
      "Şekil: (2, 4)\n",
      "Eleman Sayısı: 8\n",
      "\n",
      "Üç boyutlu array:\n",
      " [[[ 7  5 14]\n",
      "  [21  8 11]]\n",
      "\n",
      " [[ 8  6 20]\n",
      "  [14  3  9]]]\n",
      "Boyut: 3\n",
      "Şekil: (2, 2, 3)\n",
      "Eleman Sayısı: 12\n"
     ]
    }
   ],
   "source": [
    "arr2 = np.array([[1, 2, 6, 7], [4, 3, 9, 5]])\n",
    "arr3 = np.array([[[7, 5, 14], [21, 8, 11]], [[8, 6, 20], [14, 3, 9]]])\n",
    "\n",
    "print(\"İki boyutlu array:\\n\", arr2)\n",
    "print(\"Boyut:\", arr2.ndim)\n",
    "print(\"Şekil:\", arr2.shape)\n",
    "print(\"Eleman Sayısı:\", arr2.size)\n",
    "\n",
    "print(\"\\nÜç boyutlu array:\\n\", arr3)\n",
    "print(\"Boyut:\", arr3.ndim)\n",
    "print(\"Şekil:\", arr3.shape)\n",
    "print(\"Eleman Sayısı:\", arr3.size)\n"
   ]
  },
  {
   "cell_type": "markdown",
   "id": "b45192b0",
   "metadata": {},
   "source": [
    "##### 3. İstenilen elamanlara ulaşmak için arrayler üzerinde indexleme işlemi yapalım"
   ]
  },
  {
   "cell_type": "code",
   "execution_count": 9,
   "id": "563f9992",
   "metadata": {},
   "outputs": [
    {
     "name": "stdout",
     "output_type": "stream",
     "text": [
      "2\n"
     ]
    }
   ],
   "source": [
    "#İki boyutlu arraydaki 2 elemanına ulaşalım\n",
    "eleman2 = arr2[0,1]\n",
    "print (eleman2)"
   ]
  },
  {
   "cell_type": "code",
   "execution_count": 11,
   "id": "fd0a0be4",
   "metadata": {},
   "outputs": [
    {
     "name": "stdout",
     "output_type": "stream",
     "text": [
      "7\n"
     ]
    }
   ],
   "source": [
    "#İki boyutlu arraydaki 7 elemanına ulaşalım\n",
    "eleman7 = arr2[0,3]\n",
    "print(eleman7)"
   ]
  },
  {
   "cell_type": "code",
   "execution_count": 17,
   "id": "0c2b1884",
   "metadata": {},
   "outputs": [
    {
     "name": "stdout",
     "output_type": "stream",
     "text": [
      "9\n"
     ]
    }
   ],
   "source": [
    "#Üç boyutlu arraydaki 9 elemanına ulaşalım\n",
    "eleman9 = arr3[1,1,2]\n",
    "print (eleman9)"
   ]
  },
  {
   "cell_type": "code",
   "execution_count": 15,
   "id": "0dc07d00",
   "metadata": {},
   "outputs": [
    {
     "name": "stdout",
     "output_type": "stream",
     "text": [
      "5\n"
     ]
    }
   ],
   "source": [
    "#Üç boyutlu arraydaki 5 elemanına ulaşalım\n",
    "eleman5 = arr3[0,0,1]\n",
    "print (eleman5)"
   ]
  },
  {
   "cell_type": "markdown",
   "id": "12198bc9",
   "metadata": {},
   "source": [
    "##### 4. Arrayler üzerinde slicing işlemi uygulayalım."
   ]
  },
  {
   "cell_type": "code",
   "execution_count": 19,
   "id": "9d066ba1",
   "metadata": {},
   "outputs": [
    {
     "name": "stdout",
     "output_type": "stream",
     "text": [
      "[2 6]\n"
     ]
    }
   ],
   "source": [
    "#İki boyutlu arraydaki 2,6 elemanlarına ulaşalım\n",
    "slicing1 = arr2[0, 1:3]\n",
    "print (slicing1)"
   ]
  },
  {
   "cell_type": "code",
   "execution_count": 21,
   "id": "e020f980",
   "metadata": {},
   "outputs": [
    {
     "name": "stdout",
     "output_type": "stream",
     "text": [
      "[3 9 5]\n"
     ]
    }
   ],
   "source": [
    "#İki boyutlu arraydaki 3,9,5 elemanlarına ulaşalım\n",
    "slicing2 = arr2[1, 1:]\n",
    "print (slicing2)"
   ]
  },
  {
   "cell_type": "code",
   "execution_count": 23,
   "id": "891bed31",
   "metadata": {},
   "outputs": [
    {
     "name": "stdout",
     "output_type": "stream",
     "text": [
      "[21  8 11]\n"
     ]
    }
   ],
   "source": [
    "#Üç boyutlu arraydaki 21,8,11 elemanlarına ulaşalım\n",
    "slicing3 = arr3[0, 1, :]\n",
    "print (slicing3)"
   ]
  },
  {
   "cell_type": "code",
   "execution_count": 25,
   "id": "bcbf5f17",
   "metadata": {},
   "outputs": [
    {
     "name": "stdout",
     "output_type": "stream",
     "text": [
      "[ 6 20]\n"
     ]
    }
   ],
   "source": [
    "#Üç boyutlu arraydaki 6,20 elemanlarına ulaşalım\n",
    "slicing4 = arr3[1, 0, 1:]\n",
    "print (slicing4)"
   ]
  },
  {
   "cell_type": "code",
   "execution_count": null,
   "id": "99a6ed29",
   "metadata": {},
   "outputs": [],
   "source": []
  }
 ],
 "metadata": {
  "kernelspec": {
   "display_name": "Python [conda env:base] *",
   "language": "python",
   "name": "conda-base-py"
  },
  "language_info": {
   "codemirror_mode": {
    "name": "ipython",
    "version": 3
   },
   "file_extension": ".py",
   "mimetype": "text/x-python",
   "name": "python",
   "nbconvert_exporter": "python",
   "pygments_lexer": "ipython3",
   "version": "3.12.7"
  }
 },
 "nbformat": 4,
 "nbformat_minor": 5
}
