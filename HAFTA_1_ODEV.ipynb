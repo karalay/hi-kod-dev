{
 "cells": [
  {
   "cell_type": "code",
   "execution_count": 1,
   "id": "d1076f3b-e965-43a1-8904-251595ffe40a",
   "metadata": {},
   "outputs": [
    {
     "data": {
      "text/plain": [
       "str"
      ]
     },
     "execution_count": 1,
     "metadata": {},
     "output_type": "execute_result"
    }
   ],
   "source": [
    "type(\"hello\")"
   ]
  },
  {
   "cell_type": "code",
   "execution_count": 3,
   "id": "2f9d815d-f567-4986-a7f5-2b6986cb60d6",
   "metadata": {},
   "outputs": [
    {
     "data": {
      "text/plain": [
       "int"
      ]
     },
     "execution_count": 3,
     "metadata": {},
     "output_type": "execute_result"
    }
   ],
   "source": [
    "type(3)"
   ]
  },
  {
   "cell_type": "code",
   "execution_count": 5,
   "id": "c4b62496-37bb-4db8-8060-d1605d87d6f2",
   "metadata": {},
   "outputs": [
    {
     "data": {
      "text/plain": [
       "float"
      ]
     },
     "execution_count": 5,
     "metadata": {},
     "output_type": "execute_result"
    }
   ],
   "source": [
    "type(9.9)"
   ]
  },
  {
   "cell_type": "code",
   "execution_count": 7,
   "id": "e31c7a9f-8f3a-456b-bc38-9f8b36397f89",
   "metadata": {},
   "outputs": [
    {
     "name": "stdout",
     "output_type": "stream",
     "text": [
      "<class 'str'>\n"
     ]
    }
   ],
   "source": [
    "print(type(\"9\"))"
   ]
  },
  {
   "cell_type": "code",
   "execution_count": 33,
   "id": "12292c3e-4ef5-474a-b816-5a6937e44e04",
   "metadata": {},
   "outputs": [],
   "source": [
    "int1 = 9\n",
    "str1 = \"99\"\n",
    "float1 = 9.9"
   ]
  },
  {
   "cell_type": "code",
   "execution_count": 43,
   "id": "283d05a0-64c9-4083-8c31-7d25db21df0c",
   "metadata": {},
   "outputs": [
    {
     "data": {
      "text/plain": [
       "99"
      ]
     },
     "execution_count": 43,
     "metadata": {},
     "output_type": "execute_result"
    }
   ],
   "source": [
    "#str_to_int\n",
    "int(str1)"
   ]
  },
  {
   "cell_type": "code",
   "execution_count": 41,
   "id": "528c5852-2477-4c04-8cac-c515a79b1012",
   "metadata": {},
   "outputs": [
    {
     "data": {
      "text/plain": [
       "'9'"
      ]
     },
     "execution_count": 41,
     "metadata": {},
     "output_type": "execute_result"
    }
   ],
   "source": [
    "#int_to_str\n",
    "str(int1)"
   ]
  },
  {
   "cell_type": "code",
   "execution_count": 39,
   "id": "58ef8ecd-f6ba-435b-a41d-803660b032da",
   "metadata": {},
   "outputs": [
    {
     "data": {
      "text/plain": [
       "9.0"
      ]
     },
     "execution_count": 39,
     "metadata": {},
     "output_type": "execute_result"
    }
   ],
   "source": [
    "#int_to_float\n",
    "float(int1)"
   ]
  },
  {
   "cell_type": "code",
   "execution_count": 45,
   "id": "a792c52c-2a26-4652-89a7-425a14cf3cb1",
   "metadata": {},
   "outputs": [
    {
     "data": {
      "text/plain": [
       "9"
      ]
     },
     "execution_count": 45,
     "metadata": {},
     "output_type": "execute_result"
    }
   ],
   "source": [
    "#float_to_int\n",
    "int(float1)"
   ]
  },
  {
   "cell_type": "code",
   "execution_count": 47,
   "id": "2d3363e8-7052-47e5-b3c4-25a88930d756",
   "metadata": {},
   "outputs": [
    {
     "data": {
      "text/plain": [
       "'9.9'"
      ]
     },
     "execution_count": 47,
     "metadata": {},
     "output_type": "execute_result"
    }
   ],
   "source": [
    "#float_to_str\n",
    "str(float1)"
   ]
  },
  {
   "cell_type": "code",
   "execution_count": 49,
   "id": "2b19f082-20c1-42b7-b1ad-e98ae7ace0d7",
   "metadata": {},
   "outputs": [
    {
     "data": {
      "text/plain": [
       "99.0"
      ]
     },
     "execution_count": 49,
     "metadata": {},
     "output_type": "execute_result"
    }
   ],
   "source": [
    "#str_to_float\n",
    "float(str1)"
   ]
  },
  {
   "cell_type": "code",
   "execution_count": 73,
   "id": "ee2ddebe-46a8-4001-8e97-4f1414f9ee11",
   "metadata": {},
   "outputs": [
    {
     "name": "stdout",
     "output_type": "stream",
     "text": [
      "False\n",
      "True\n",
      "False\n",
      "False\n",
      "True\n",
      "True\n",
      "True\n",
      "True\n",
      "False\n"
     ]
    }
   ],
   "source": [
    "#ödev2\n",
    "\n",
    "ali = 20\n",
    "ayse = 22\n",
    "veli = 24\n",
    "\n",
    "#karşılaştırma_operatorleri\n",
    "print(ali>ayse)\n",
    "print(ayse>ali)\n",
    "print(ayse==ali)\n",
    "print(veli<=ayse)\n",
    "print(ali<veli)\n",
    "print(ayse>=ali)\n",
    "\n",
    "#mantıksal_operatorler\n",
    "print(ali<ayse and ali<veli)\n",
    "print(ayse>veli or veli>ali)\n",
    "print((ayse > veli) and (not (ayse < ali)))"
   ]
  },
  {
   "cell_type": "code",
   "execution_count": 83,
   "id": "a2cb4deb-152c-452d-ae2f-5dc797fa5641",
   "metadata": {},
   "outputs": [
    {
     "name": "stdin",
     "output_type": "stream",
     "text": [
      "lütfen sıfırdan farklı bir sayı giriniz 8\n",
      "lütfen sıfırdan farklı yeni bir sayı giriniz 2\n"
     ]
    },
    {
     "name": "stdout",
     "output_type": "stream",
     "text": [
      "çarpım sonucu: 16.0\n",
      "toplama sonucu: 10.0\n",
      "ilk sayının ikincisinden farkı: 6.0\n",
      "ilk sayının ikincisine bölümü: 4.0\n"
     ]
    }
   ],
   "source": [
    "#odev3\n",
    "\n",
    "sayı1 = float(input(\"lütfen sıfırdan farklı bir sayı giriniz\"))\n",
    "sayı2 = float(input(\"lütfen sıfırdan farklı yeni bir sayı giriniz\"))\n",
    "\n",
    "carpım = sayı1 * sayı2\n",
    "print(\"çarpım sonucu:\", carpım)\n",
    "\n",
    "toplam = sayı1 + sayı2\n",
    "print(\"toplama sonucu:\", toplam)\n",
    "\n",
    "fark = sayı1 - sayı2\n",
    "print(\"ilk sayının ikincisinden farkı:\", fark)\n",
    "\n",
    "bolum = sayı1/sayı2\n",
    "print(\"ilk sayının ikincisine bölümü:\", bolum)"
   ]
  },
  {
   "cell_type": "code",
   "execution_count": 85,
   "id": "013010cc-1b5a-4c26-a7af-a3ef2fd05743",
   "metadata": {},
   "outputs": [
    {
     "name": "stdin",
     "output_type": "stream",
     "text": [
      "lütfen isminizi giriniz: yamur\n",
      "lütfen yaşınızı giriniz: 18\n",
      "lütfen yaşadığınız şehri giriniz: istanbul\n",
      "lütfen mesleğinizi giriniz: ogrenci\n"
     ]
    },
    {
     "name": "stdout",
     "output_type": "stream",
     "text": [
      "kullanıcı adı: yamur yaşınız 18 şehriniz  istanbul mesleği ogrenci\n"
     ]
    }
   ],
   "source": [
    "#odev4\n",
    "kullanıcı = str(input(\"lütfen isminizi giriniz:\"))\n",
    "yas = str(input(\"lütfen yaşınızı giriniz:\"))\n",
    "sehir = str(input(\"lütfen yaşadığınız şehri giriniz:\"))\n",
    "meslek = str(input(\"lütfen mesleğinizi giriniz:\"))\n",
    "\n",
    "print(\"kullanıcı adı:\", kullanıcı, \n",
    "     \"yaşınız\", yas,\n",
    "     \"şehriniz \", sehir,\n",
    "     \"mesleği\", meslek)"
   ]
  },
  {
   "cell_type": "code",
   "execution_count": 105,
   "id": "f835af75-4a4f-47c8-9103-4729d183902a",
   "metadata": {},
   "outputs": [
    {
     "name": "stdout",
     "output_type": "stream",
     "text": [
      "Hi-Kod\n",
      "Veri\n",
      "Bilimi\n",
      "Atölyesi\n"
     ]
    }
   ],
   "source": [
    "#odev5\n",
    "\n",
    "metin = \"Hi-Kod Veri Bilimi Atölyesi\"\n",
    "kelimeler =  metin.split()\n",
    "\n",
    "kelime1 = kelimeler[0]  \n",
    "kelime2 = kelimeler[1]\n",
    "kelime3 = kelimeler[2]  \n",
    "kelime4 = kelimeler[3]  \n",
    "\n",
    "\n",
    "print(kelime1)\n",
    "print(kelime2)\n",
    "print(kelime3)\n",
    "print(kelime4)"
   ]
  },
  {
   "cell_type": "code",
   "execution_count": 109,
   "id": "ebbdb34c-9502-4479-9f69-3118ca35427a",
   "metadata": {},
   "outputs": [
    {
     "name": "stdout",
     "output_type": "stream",
     "text": [
      "HI-KOD VERI BILIMI ATÖLYESI\n"
     ]
    }
   ],
   "source": [
    "metin_buyuk = metin.upper()\n",
    "print(metin_buyuk)"
   ]
  },
  {
   "cell_type": "code",
   "execution_count": 111,
   "id": "b783140a-9905-47fe-88de-901cc6254d3e",
   "metadata": {},
   "outputs": [
    {
     "name": "stdout",
     "output_type": "stream",
     "text": [
      "hi-kod veri bilimi atölyesi\n"
     ]
    }
   ],
   "source": [
    "metin_kucuk = metin.lower()\n",
    "print(metin_kucuk)"
   ]
  },
  {
   "cell_type": "code",
   "execution_count": 117,
   "id": "af2bbbb8-699a-46a3-ade6-8c97706fd3a4",
   "metadata": {},
   "outputs": [
    {
     "name": "stdout",
     "output_type": "stream",
     "text": [
      "çift sayılar: 02468 tek sayılar: 13579\n"
     ]
    }
   ],
   "source": [
    "sayilar = \"0123456789\"\n",
    "cift_sayilar = sayilar[0::2]\n",
    "tek_sayilar = sayilar[1::2]\n",
    "print(\"çift sayılar:\", cift_sayilar,\n",
    "     \"tek sayılar:\", tek_sayilar)"
   ]
  },
  {
   "cell_type": "code",
   "execution_count": null,
   "id": "b9951981-9fc3-44c7-ae34-bdb205469340",
   "metadata": {},
   "outputs": [],
   "source": []
  }
 ],
 "metadata": {
  "kernelspec": {
   "display_name": "Python [conda env:base] *",
   "language": "python",
   "name": "conda-base-py"
  },
  "language_info": {
   "codemirror_mode": {
    "name": "ipython",
    "version": 3
   },
   "file_extension": ".py",
   "mimetype": "text/x-python",
   "name": "python",
   "nbconvert_exporter": "python",
   "pygments_lexer": "ipython3",
   "version": "3.12.7"
  }
 },
 "nbformat": 4,
 "nbformat_minor": 5
}
